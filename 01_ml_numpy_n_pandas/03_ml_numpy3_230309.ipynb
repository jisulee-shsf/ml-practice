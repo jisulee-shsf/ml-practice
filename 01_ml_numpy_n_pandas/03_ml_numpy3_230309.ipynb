{
  "nbformat": 4,
  "nbformat_minor": 0,
  "metadata": {
    "colab": {
      "provenance": [],
      "toc_visible": true
    },
    "kernelspec": {
      "name": "python3",
      "display_name": "Python 3"
    },
    "language_info": {
      "name": "python"
    }
  },
  "cells": [
    {
      "cell_type": "markdown",
      "source": [
        "## **Numpy**"
      ],
      "metadata": {
        "id": "JWTbXqr2nAHv"
      }
    },
    {
      "cell_type": "code",
      "execution_count": 1,
      "metadata": {
        "id": "xV45PN4VP1Bq"
      },
      "outputs": [],
      "source": [
        "import numpy as np"
      ]
    },
    {
      "cell_type": "markdown",
      "source": [
        "### **1. 행렬 정렬**"
      ],
      "metadata": {
        "id": "j1cP9uUwV8ha"
      }
    },
    {
      "cell_type": "markdown",
      "source": [
        "##### 1) np.sort(): 원 행렬은 유지한 채, 원 형렬을 정렬한 행렬 반환 "
      ],
      "metadata": {
        "id": "U6xxkW7zWEjX"
      }
    },
    {
      "cell_type": "code",
      "source": [
        "array = np.array([5, 3, 7, 1])\n",
        "print(array, '\\n')\n",
        "\n",
        "# 오름차순 정렬\n",
        "array_sort1 = np.sort(array)\n",
        "print('- array =', array)\n",
        "print('- array_sort1 =', array_sort1, '\\n')\n",
        "\n",
        "# 내림차순 정렬\n",
        "array_sort2 = np.sort(array)[::-1]\n",
        "print('- array =', array)\n",
        "print('- array_sort2 =', array_sort2)"
      ],
      "metadata": {
        "colab": {
          "base_uri": "https://localhost:8080/"
        },
        "id": "lcgQVkeaWCll",
        "outputId": "be038f7e-2ea8-423f-ad21-b902875f8807"
      },
      "execution_count": 2,
      "outputs": [
        {
          "output_type": "stream",
          "name": "stdout",
          "text": [
            "[5 3 7 1] \n",
            "\n",
            "- array = [5 3 7 1]\n",
            "- array_sort1 = [1 3 5 7] \n",
            "\n",
            "- array = [5 3 7 1]\n",
            "- array_sort2 = [7 5 3 1]\n"
          ]
        }
      ]
    },
    {
      "cell_type": "code",
      "source": [
        "array = np.array([5, 3, 7, 1])\n",
        "array_2d = array.reshape(-1, 2)\n",
        "print(array_2d, '\\n')\n",
        "\n",
        "# axis = 0 정렬\n",
        "array_2d_sort1 = np.sort(array_2d, axis = 0)\n",
        "print('- array_2d =', array_2d.tolist())\n",
        "print('- array_2d_sort1 =', array_2d_sort1.tolist(), '\\n')\n",
        "\n",
        "# axis = 1 정렬\n",
        "array_2d_sort2 = np.sort(array_2d, axis = 1)\n",
        "print('- array_2d =', array_2d.tolist())\n",
        "print('- array_2d_sort2 =', array_2d_sort2.tolist())"
      ],
      "metadata": {
        "colab": {
          "base_uri": "https://localhost:8080/"
        },
        "id": "El_gw8hjoh3V",
        "outputId": "ab0eba0a-5741-4578-cafb-674ead9a1ecb"
      },
      "execution_count": 3,
      "outputs": [
        {
          "output_type": "stream",
          "name": "stdout",
          "text": [
            "[[5 3]\n",
            " [7 1]] \n",
            "\n",
            "- array_2d = [[5, 3], [7, 1]]\n",
            "- array_2d_sort1 = [[5, 1], [7, 3]] \n",
            "\n",
            "- array_2d = [[5, 3], [7, 1]]\n",
            "- array_2d_sort2 = [[3, 5], [1, 7]]\n"
          ]
        }
      ]
    },
    {
      "cell_type": "markdown",
      "source": [
        "##### 2) ndarray.sort(): 원 행렬 자체를 정렬해 반환"
      ],
      "metadata": {
        "id": "p7FPJwMuiAHD"
      }
    },
    {
      "cell_type": "code",
      "source": [
        "array = np.array([5, 3, 7, 1])\n",
        "print(array, '\\n')\n",
        "\n",
        "# 오름차순 정렬\n",
        "array_sort1 = array.sort()\n",
        "print('- array =', array)\n",
        "print('- array_sort1 =', array_sort1, '\\n')\n",
        "\n",
        "# 내림차순 정렬\n",
        "array_sort2 = array.sort()\n",
        "print('- array =', array[::-1])\n",
        "print('- array_sort2 =', array_sort2)"
      ],
      "metadata": {
        "colab": {
          "base_uri": "https://localhost:8080/"
        },
        "id": "qNMIBKBxW-7Y",
        "outputId": "cfee53fe-7eb6-468c-96d5-c5645648957e"
      },
      "execution_count": 4,
      "outputs": [
        {
          "output_type": "stream",
          "name": "stdout",
          "text": [
            "[5 3 7 1] \n",
            "\n",
            "- array = [1 3 5 7]\n",
            "- array_sort1 = None \n",
            "\n",
            "- array = [7 5 3 1]\n",
            "- array_sort2 = None\n"
          ]
        }
      ]
    },
    {
      "cell_type": "markdown",
      "source": [
        "##### 3) np.argsort(): 정렬된 행렬의 인덱스 반환"
      ],
      "metadata": {
        "id": "X2-pcsyol1zB"
      }
    },
    {
      "cell_type": "code",
      "source": [
        "array = np.array([5, 3, 7, 1])\n",
        "print(array, '\\n')\n",
        "\n",
        "# 오름차순 정렬\n",
        "array_argsort1 = np.argsort(array)\n",
        "print('- array_argsort1 index =', array_argsort1)\n",
        "print('- array_argsort1 =', array[array_argsort1], '\\n')\n",
        "\n",
        "# 내림차순 정렬\n",
        "array_argsort2 = np.argsort(array)[::-1]\n",
        "print('- array_argsort2 index =', array_argsort2)\n",
        "print('- array_argsort2 =', array[array_argsort2])"
      ],
      "metadata": {
        "colab": {
          "base_uri": "https://localhost:8080/"
        },
        "id": "prhZyrlRV5Iu",
        "outputId": "578fed71-cb92-4a3b-dfe0-07edb6eb746c"
      },
      "execution_count": 5,
      "outputs": [
        {
          "output_type": "stream",
          "name": "stdout",
          "text": [
            "[5 3 7 1] \n",
            "\n",
            "- array_argsort1 index = [3 1 0 2]\n",
            "- array_argsort1 = [1 3 5 7] \n",
            "\n",
            "- array_argsort2 index = [2 0 1 3]\n",
            "- array_argsort2 = [7 5 3 1]\n"
          ]
        }
      ]
    },
    {
      "cell_type": "markdown",
      "source": [
        "### **2. 선형대수 연산**"
      ],
      "metadata": {
        "id": "vk3_2pcalAnN"
      }
    },
    {
      "cell_type": "markdown",
      "source": [
        "##### 1) 행렬 내적(행렬 곱)"
      ],
      "metadata": {
        "id": "OXu5bd6ynfOn"
      }
    },
    {
      "cell_type": "code",
      "source": [
        "A = np.array([1, 2, 3, 4, 5, 6]).reshape(-1, 3)\n",
        "print(A, '\\n')\n",
        "\n",
        "B = np.array([7, 8, 9, 10, 11, 12]).reshape(-1, 2)\n",
        "print(B)"
      ],
      "metadata": {
        "colab": {
          "base_uri": "https://localhost:8080/"
        },
        "id": "JIt__ryOc4kO",
        "outputId": "f88d1825-9648-495e-8df9-34d3171f50cc"
      },
      "execution_count": 6,
      "outputs": [
        {
          "output_type": "stream",
          "name": "stdout",
          "text": [
            "[[1 2 3]\n",
            " [4 5 6]] \n",
            "\n",
            "[[ 7  8]\n",
            " [ 9 10]\n",
            " [11 12]]\n"
          ]
        }
      ]
    },
    {
      "cell_type": "code",
      "source": [
        "dot_product = np.dot(A, B)\n",
        "print(dot_product)"
      ],
      "metadata": {
        "colab": {
          "base_uri": "https://localhost:8080/"
        },
        "id": "_zqHCIn7opq6",
        "outputId": "fa076ff6-f655-4283-ab65-49cfb28c83ff"
      },
      "execution_count": 7,
      "outputs": [
        {
          "output_type": "stream",
          "name": "stdout",
          "text": [
            "[[ 58  64]\n",
            " [139 154]]\n"
          ]
        }
      ]
    },
    {
      "cell_type": "markdown",
      "source": [
        "##### 2) 전치 행렬"
      ],
      "metadata": {
        "id": "RvpwmWivniqw"
      }
    },
    {
      "cell_type": "code",
      "source": [
        "A = np.array([1, 2, 3, 4, 5, 6]).reshape(-1, 3)\n",
        "print(A)"
      ],
      "metadata": {
        "colab": {
          "base_uri": "https://localhost:8080/"
        },
        "id": "XFM62R1fs7Az",
        "outputId": "6cc1293f-931b-448e-f05f-a54dae4efb86"
      },
      "execution_count": 8,
      "outputs": [
        {
          "output_type": "stream",
          "name": "stdout",
          "text": [
            "[[1 2 3]\n",
            " [4 5 6]]\n"
          ]
        }
      ]
    },
    {
      "cell_type": "code",
      "source": [
        "transpose = np.transpose(A)\n",
        "print(transpose)"
      ],
      "metadata": {
        "colab": {
          "base_uri": "https://localhost:8080/"
        },
        "id": "vSfQUY4ns8oU",
        "outputId": "e4e35290-17bd-4b79-9209-38034ef9daec"
      },
      "execution_count": 9,
      "outputs": [
        {
          "output_type": "stream",
          "name": "stdout",
          "text": [
            "[[1 4]\n",
            " [2 5]\n",
            " [3 6]]\n"
          ]
        }
      ]
    }
  ]
}