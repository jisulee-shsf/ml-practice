{
  "nbformat": 4,
  "nbformat_minor": 0,
  "metadata": {
    "colab": {
      "provenance": [],
      "toc_visible": true
    },
    "kernelspec": {
      "name": "python3",
      "display_name": "Python 3"
    },
    "language_info": {
      "name": "python"
    }
  },
  "cells": [
    {
      "cell_type": "markdown",
      "source": [
        "## **Numpy**"
      ],
      "metadata": {
        "id": "JWTbXqr2nAHv"
      }
    },
    {
      "cell_type": "code",
      "execution_count": 1,
      "metadata": {
        "id": "xV45PN4VP1Bq"
      },
      "outputs": [],
      "source": [
        "import numpy as np"
      ]
    },
    {
      "cell_type": "markdown",
      "source": [
        "### **인덱싱(Indexing)**"
      ],
      "metadata": {
        "id": "j1cP9uUwV8ha"
      }
    },
    {
      "cell_type": "markdown",
      "source": [
        "##### 1-1) 1차원 ndarray 단일 값 추출"
      ],
      "metadata": {
        "id": "U6xxkW7zWEjX"
      }
    },
    {
      "cell_type": "code",
      "source": [
        "array_1d = np.arange(1, 10)\n",
        "print(array_1d, '\\n')\n",
        "\n",
        "# ndim(1 → 0)\n",
        "print(f'- array_1d[3] = {array_1d[3]} / ndim = {array_1d[3].ndim}')\n",
        "print(f'- array_1d[-1] = {array_1d[-1]} / ndim = {array_1d[-1].ndim}')"
      ],
      "metadata": {
        "colab": {
          "base_uri": "https://localhost:8080/"
        },
        "id": "vVHM_YdEQFwQ",
        "outputId": "02d29cfe-13ad-46fe-80a1-991bb48c3382"
      },
      "execution_count": 2,
      "outputs": [
        {
          "output_type": "stream",
          "name": "stdout",
          "text": [
            "[1 2 3 4 5 6 7 8 9] \n",
            "\n",
            "- array_1d[3] = 4 / ndim = 0\n",
            "- array_1d[-1] = 9 / ndim = 0\n"
          ]
        }
      ]
    },
    {
      "cell_type": "markdown",
      "source": [
        "##### 1-2) 2차원 ndarray 단일 값 추출"
      ],
      "metadata": {
        "id": "JrwVPu2uYK0o"
      }
    },
    {
      "cell_type": "code",
      "source": [
        "array_1d = np.arange(1, 10)\n",
        "array_2d = array_1d.reshape(-1, 3)\n",
        "print(array_2d, '\\n')\n",
        "\n",
        "# ndim(2 → 0)\n",
        "print(f'- array_2d[1, 1] = {array_2d[1, 1]} / ndim = {array_2d[1, 1].ndim}')\n",
        "print(f'- array_2d[-1, -1] = {array_2d[-1, -1]} / ndim = {array_2d[-1, -1].ndim}')"
      ],
      "metadata": {
        "colab": {
          "base_uri": "https://localhost:8080/"
        },
        "id": "v6AmlO8LWkwJ",
        "outputId": "ffe1f42f-f4b9-4d85-f029-0c3e56d31d6b"
      },
      "execution_count": 3,
      "outputs": [
        {
          "output_type": "stream",
          "name": "stdout",
          "text": [
            "[[1 2 3]\n",
            " [4 5 6]\n",
            " [7 8 9]] \n",
            "\n",
            "- array_2d[1, 1] = 5 / ndim = 0\n",
            "- array_2d[-1, -1] = 9 / ndim = 0\n"
          ]
        }
      ]
    },
    {
      "cell_type": "markdown",
      "source": [
        "##### 2-1) 1차원 ndarray 슬라이싱(Slicing)"
      ],
      "metadata": {
        "id": "2X4vvQuPWLvF"
      }
    },
    {
      "cell_type": "code",
      "source": [
        "array_1d = np.arange(1, 10)\n",
        "print(array_1d, '\\n')\n",
        "\n",
        "# ndim(1 → 1)\n",
        "print(f'- array_1d[0:3] = {array_1d[0:3]} / ndim = {array_1d[0:3].ndim}')\n",
        "print(f'- array_1d[3:] = {array_1d[3:]} / ndim = {array_1d[3:].ndim}')"
      ],
      "metadata": {
        "colab": {
          "base_uri": "https://localhost:8080/"
        },
        "id": "W_2ZAjyKaz8F",
        "outputId": "66073eaf-1ccb-4b39-b050-ebf93f3ea3e9"
      },
      "execution_count": 4,
      "outputs": [
        {
          "output_type": "stream",
          "name": "stdout",
          "text": [
            "[1 2 3 4 5 6 7 8 9] \n",
            "\n",
            "- array_1d[0:3] = [1 2 3] / ndim = 1\n",
            "- array_1d[3:] = [4 5 6 7 8 9] / ndim = 1\n"
          ]
        }
      ]
    },
    {
      "cell_type": "markdown",
      "source": [
        "##### 2-2) 2차원 ndarray 슬라이싱(Slicing)"
      ],
      "metadata": {
        "id": "44aORgzuq8ic"
      }
    },
    {
      "cell_type": "code",
      "source": [
        "array_1d = np.arange(1, 10)\n",
        "array_2d = array_1d.reshape(-1, 3)\n",
        "print(array_2d, '\\n')\n",
        "\n",
        "# ndim(2 → 1)\n",
        "print(f'- array_2d[:1, 1] = {array_2d[:1, 1]} / ndim = {array_2d[:1, 1].ndim}')\n",
        "print(f'- array_2d[1:, 1] = {array_2d[1:, 1]} / ndim = {array_2d[1:, 1].ndim}', '\\n')\n",
        "\n",
        "# ndim(2 → 2)\n",
        "print(f'- array_2d[:1, :1] = {array_2d[:1, :1]} / ndim = {array_2d[:1, :1].ndim}')\n",
        "print(f'- array_2d[1:, 1:] = {array_2d[1:, 1:].tolist()} / ndim = {array_2d[1:, 1:].ndim}')"
      ],
      "metadata": {
        "colab": {
          "base_uri": "https://localhost:8080/"
        },
        "id": "Asfk1CeVa0HQ",
        "outputId": "59accaf4-9b3b-4977-b7a2-c372a865a8d4"
      },
      "execution_count": 5,
      "outputs": [
        {
          "output_type": "stream",
          "name": "stdout",
          "text": [
            "[[1 2 3]\n",
            " [4 5 6]\n",
            " [7 8 9]] \n",
            "\n",
            "- array_2d[:1, 1] = [2] / ndim = 1\n",
            "- array_2d[1:, 1] = [5 8] / ndim = 1 \n",
            "\n",
            "- array_2d[:1, :1] = [[1]] / ndim = 2\n",
            "- array_2d[1:, 1:] = [[5, 6], [8, 9]] / ndim = 2\n"
          ]
        }
      ]
    },
    {
      "cell_type": "markdown",
      "source": [
        "##### 3) 팬시 인덱싱(Fancy Indexing)"
      ],
      "metadata": {
        "id": "arha3mCNtKGO"
      }
    },
    {
      "cell_type": "code",
      "source": [
        "array_1d = np.arange(1, 10)\n",
        "array_2d = array_1d.reshape(-1, 3)\n",
        "print(array_2d, '\\n')\n",
        "\n",
        "# ndim(2 → 1)\n",
        "print(f'- array_2d[[1, 2], 1] = {array_2d[[1, 2], 1]} / ndim = {array_2d[[1, 2], 1].ndim}')\n",
        "print(f'- array_2d[[1, 2], -1] = {array_2d[[1, 2], -1]} / ndim = {array_2d[[1, 2], -1].ndim}', '\\n')\n",
        "\n",
        "# ndim(2 → 2)\n",
        "print(f'- array_2d[[1, 2], 0:2] = {array_2d[[1, 2], 0:2].tolist()} / ndim = {array_2d[[1, 2], 0:2].ndim}')\n",
        "print(f'- array_2d[[1, 2]] = {array_2d[[1, 2]].tolist()} / ndim = {array_2d[[1, 2]].ndim}')"
      ],
      "metadata": {
        "colab": {
          "base_uri": "https://localhost:8080/"
        },
        "id": "YAYs8NpEa0KH",
        "outputId": "77f70327-d8eb-4946-eb85-72a01a6a7e4c"
      },
      "execution_count": 6,
      "outputs": [
        {
          "output_type": "stream",
          "name": "stdout",
          "text": [
            "[[1 2 3]\n",
            " [4 5 6]\n",
            " [7 8 9]] \n",
            "\n",
            "- array_2d[[1, 2], 1] = [5 8] / ndim = 1\n",
            "- array_2d[[1, 2], -1] = [6 9] / ndim = 1 \n",
            "\n",
            "- array_2d[[1, 2], 0:2] = [[4, 5], [7, 8]] / ndim = 2\n",
            "- array_2d[[1, 2]] = [[4, 5, 6], [7, 8, 9]] / ndim = 2\n"
          ]
        }
      ]
    },
    {
      "cell_type": "markdown",
      "source": [
        "##### 4) 불린 인덱싱(Boolean Indexing)"
      ],
      "metadata": {
        "id": "cafR1k8UWL09"
      }
    },
    {
      "cell_type": "code",
      "source": [
        "array = np.arange(1, 10)\n",
        "print(array, '\\n')\n",
        "\n",
        "print('- array > 3 =', array > 3)\n",
        "print('- array[array > 3] =', array[array > 3], '\\n')\n",
        "\n",
        "boolean1 = np.array([False, False, False, True, True, True, True, True, True])\n",
        "print('- array[boolean1] =', array[boolean1])\n",
        "boolean2 = array > 3\n",
        "print('- array[boolean2] =', array[boolean2])"
      ],
      "metadata": {
        "colab": {
          "base_uri": "https://localhost:8080/"
        },
        "id": "icEkxaXYV6iR",
        "outputId": "4b5bf266-6b7d-46a7-8395-d6b5a11be324"
      },
      "execution_count": 7,
      "outputs": [
        {
          "output_type": "stream",
          "name": "stdout",
          "text": [
            "[1 2 3 4 5 6 7 8 9] \n",
            "\n",
            "- array > 3 = [False False False  True  True  True  True  True  True]\n",
            "- array[array > 3] = [4 5 6 7 8 9] \n",
            "\n",
            "- array[boolean1] = [4 5 6 7 8 9]\n",
            "- array[boolean2] = [4 5 6 7 8 9]\n"
          ]
        }
      ]
    }
  ]
}