{
  "nbformat": 4,
  "nbformat_minor": 0,
  "metadata": {
    "colab": {
      "provenance": [],
      "toc_visible": true
    },
    "kernelspec": {
      "name": "python3",
      "display_name": "Python 3"
    },
    "language_info": {
      "name": "python"
    }
  },
  "cells": [
    {
      "cell_type": "markdown",
      "source": [
        "## **Numpy**"
      ],
      "metadata": {
        "id": "JWTbXqr2nAHv"
      }
    },
    {
      "cell_type": "code",
      "execution_count": 1,
      "metadata": {
        "id": "xV45PN4VP1Bq"
      },
      "outputs": [],
      "source": [
        "import numpy as np"
      ]
    },
    {
      "cell_type": "markdown",
      "source": [
        "### **1. ndarray**"
      ],
      "metadata": {
        "id": "xdbAR5Mjmfsp"
      }
    },
    {
      "cell_type": "markdown",
      "source": [
        "##### Numpy 기반 데이터 타입인 ndarray 생성 실습"
      ],
      "metadata": {
        "id": "zp-tZRZPkhHI"
      }
    },
    {
      "cell_type": "code",
      "source": [
        "array1 = np.array([1, 2, 3])\n",
        "print(array1)\n",
        "print('- array1 type:', type(array1))\n",
        "print('- array1 shape:', array1.shape)\n",
        "print('- array1 ndim:', array1.ndim, '\\n')\n",
        "\n",
        "array2 = np.array([[1, 2, 3]])\n",
        "print(array2)\n",
        "print('- array2 type:', type(array2))\n",
        "print('- array2 shape:', array2.shape)\n",
        "print('- array2 ndim:', array2.ndim, '\\n')\n",
        "\n",
        "array3 = np.array([[1, 2, 3],\n",
        "                   [1, 2, 3]])\n",
        "print(array3)\n",
        "print('- array3 type:', type(array3))\n",
        "print('- array3 shape:', array3.shape)\n",
        "print('- array3 ndim:', array3.ndim)"
      ],
      "metadata": {
        "colab": {
          "base_uri": "https://localhost:8080/"
        },
        "id": "og9ewSmxjtS-",
        "outputId": "72ca977d-2083-4683-cd11-e7f90808380c"
      },
      "execution_count": 2,
      "outputs": [
        {
          "output_type": "stream",
          "name": "stdout",
          "text": [
            "[1 2 3]\n",
            "- array1 type: <class 'numpy.ndarray'>\n",
            "- array1 shape: (3,)\n",
            "- array1 ndim: 1 \n",
            "\n",
            "[[1 2 3]]\n",
            "- array2 type: <class 'numpy.ndarray'>\n",
            "- array2 shape: (1, 3)\n",
            "- array2 ndim: 2 \n",
            "\n",
            "[[1 2 3]\n",
            " [1 2 3]]\n",
            "- array3 type: <class 'numpy.ndarray'>\n",
            "- array3 shape: (2, 3)\n",
            "- array3 ndim: 2\n"
          ]
        }
      ]
    },
    {
      "cell_type": "markdown",
      "source": [
        "### **2. ndarray 데이터 타입**"
      ],
      "metadata": {
        "id": "EHLdJxq7m_Vi"
      }
    },
    {
      "cell_type": "markdown",
      "source": [
        "##### 1) ndarray 내에 서로 다른 데이터 타입의 형 변환 실습"
      ],
      "metadata": {
        "id": "SjleCtrgMCQT"
      }
    },
    {
      "cell_type": "code",
      "source": [
        "array1 = np.array([1, 2, 3])\n",
        "print(array1)\n",
        "print('- array1 dtype:', array1.dtype, '\\n')\n",
        "\n",
        "array2 = np.array([1, 2, 'ml'])\n",
        "print(array2)\n",
        "print('- array2 dtype:', array2.dtype, '\\n')\n",
        "\n",
        "array3 = np.array([1, 2, 3.0])\n",
        "print(array3)\n",
        "print('- array3 dtype:', array3.dtype)"
      ],
      "metadata": {
        "colab": {
          "base_uri": "https://localhost:8080/"
        },
        "id": "zMYCnkOssiP4",
        "outputId": "d281063f-4df5-4d7b-a8cd-f4d953029528"
      },
      "execution_count": 3,
      "outputs": [
        {
          "output_type": "stream",
          "name": "stdout",
          "text": [
            "[1 2 3]\n",
            "- array1 dtype: int64 \n",
            "\n",
            "['1' '2' 'ml']\n",
            "- array2 dtype: <U21 \n",
            "\n",
            "[1. 2. 3.]\n",
            "- array3 dtype: float64\n"
          ]
        }
      ]
    },
    {
      "cell_type": "markdown",
      "source": [
        "##### 2) ndarray 데이터 타입 변경 실습 "
      ],
      "metadata": {
        "id": "zgiaILE47xKu"
      }
    },
    {
      "cell_type": "code",
      "source": [
        "array1 = np.array([1, 2, 3])\n",
        "print(array1)\n",
        "print('- array1 dtype:', array1.dtype, '\\n')\n",
        "\n",
        "array2 = array1.astype('float32')\n",
        "# array2 = array1.astype(np.float32)\n",
        "print(array2)\n",
        "print('- array2 dtype:', array2.dtype)"
      ],
      "metadata": {
        "colab": {
          "base_uri": "https://localhost:8080/"
        },
        "id": "meShMbZjzgyi",
        "outputId": "c4093506-5b86-4d84-d541-9aa15a90f056"
      },
      "execution_count": 4,
      "outputs": [
        {
          "output_type": "stream",
          "name": "stdout",
          "text": [
            "[1 2 3]\n",
            "- array1 dtype: int64 \n",
            "\n",
            "[1. 2. 3.]\n",
            "- array2 dtype: float32\n"
          ]
        }
      ]
    },
    {
      "cell_type": "markdown",
      "source": [
        "### **3. ndarray 생성 및 크기 ・ 차원 변경**\n",
        "\n"
      ],
      "metadata": {
        "id": "0ssrsvL1-hyn"
      }
    },
    {
      "cell_type": "markdown",
      "source": [
        "##### 1) 특정 크기와 차원을 가진 ndarray 생성 실습"
      ],
      "metadata": {
        "id": "635R-FyRL2G8"
      }
    },
    {
      "cell_type": "code",
      "source": [
        "array1 = np.arange(10)\n",
        "print(array1)\n",
        "print('- array1 dtype:', array1.dtype)\n",
        "print('- array1 shape:', array1.shape, '\\n')\n",
        "\n",
        "array2 = np.zeros((2, 3), dtype = 'int32')\n",
        "print(array2)\n",
        "print('- array2 dtype:', array2.dtype)\n",
        "print('- array2 shape:', array2.shape, '\\n')\n",
        "\n",
        "array3 = np.ones((2, 3))\n",
        "print(array3)\n",
        "print('- array3 dtype:', array3.dtype)\n",
        "print('- array3 shape:', array3.shape)"
      ],
      "metadata": {
        "colab": {
          "base_uri": "https://localhost:8080/"
        },
        "id": "MZSo5FXo8ddi",
        "outputId": "d73718a7-daac-41e8-f796-3efab28d33c6"
      },
      "execution_count": 5,
      "outputs": [
        {
          "output_type": "stream",
          "name": "stdout",
          "text": [
            "[0 1 2 3 4 5 6 7 8 9]\n",
            "- array1 dtype: int64\n",
            "- array1 shape: (10,) \n",
            "\n",
            "[[0 0 0]\n",
            " [0 0 0]]\n",
            "- array2 dtype: int32\n",
            "- array2 shape: (2, 3) \n",
            "\n",
            "[[1. 1. 1.]\n",
            " [1. 1. 1.]]\n",
            "- array3 dtype: float64\n",
            "- array3 shape: (2, 3)\n"
          ]
        }
      ]
    },
    {
      "cell_type": "markdown",
      "source": [
        "##### 2) ndarray 크기와 차원 변경 실습"
      ],
      "metadata": {
        "id": "6SaVI5oBLri1"
      }
    },
    {
      "cell_type": "code",
      "source": [
        "array1 = np.arange(10).reshape(2, 5)\n",
        "# array1 = np.arange(10).reshape((2, 5))\n",
        "print(array1)\n",
        "print('- array1 shape:', array1.shape, '\\n')\n",
        "\n",
        "array2 = np.arange(10).reshape(-1, 5)\n",
        "print(array2)\n",
        "print('- array2 shape:', array2.shape)"
      ],
      "metadata": {
        "colab": {
          "base_uri": "https://localhost:8080/"
        },
        "id": "CioXy3eQ-DTT",
        "outputId": "e1a7c0d3-d62e-4235-a59f-fc27bcd31730"
      },
      "execution_count": 6,
      "outputs": [
        {
          "output_type": "stream",
          "name": "stdout",
          "text": [
            "[[0 1 2 3 4]\n",
            " [5 6 7 8 9]]\n",
            "- array1 shape: (2, 5) \n",
            "\n",
            "[[0 1 2 3 4]\n",
            " [5 6 7 8 9]]\n",
            "- array2 shape: (2, 5)\n"
          ]
        }
      ]
    },
    {
      "cell_type": "code",
      "source": [
        "array1 = np.arange(12).reshape((2, 2, 3))\n",
        "print(array1.tolist())\n",
        "print('- array1 shape:', array1.shape)\n",
        "print('- array1 ndim:', array1.ndim, '\\n')\n",
        "\n",
        "array2 = array1.reshape(-1, 1)\n",
        "print(array2.tolist())\n",
        "print('- array2 shape:', array2.shape)\n",
        "print('- array2 ndim:', array2.ndim, '\\n')\n",
        "\n",
        "array3 = array1.reshape(-1,)\n",
        "print(array3.tolist())\n",
        "print('- array3 shape:', array3.shape)\n",
        "print('- array3 ndim:', array3.ndim)"
      ],
      "metadata": {
        "colab": {
          "base_uri": "https://localhost:8080/"
        },
        "id": "OAekSLnyM8cJ",
        "outputId": "40f07a9a-98a8-4df3-ac9a-81ed0d46a1d0"
      },
      "execution_count": 7,
      "outputs": [
        {
          "output_type": "stream",
          "name": "stdout",
          "text": [
            "[[[0, 1, 2], [3, 4, 5]], [[6, 7, 8], [9, 10, 11]]]\n",
            "- array1 shape: (2, 2, 3)\n",
            "- array1 ndim: 3 \n",
            "\n",
            "[[0], [1], [2], [3], [4], [5], [6], [7], [8], [9], [10], [11]]\n",
            "- array2 shape: (12, 1)\n",
            "- array2 ndim: 2 \n",
            "\n",
            "[0, 1, 2, 3, 4, 5, 6, 7, 8, 9, 10, 11]\n",
            "- array3 shape: (12,)\n",
            "- array3 ndim: 1\n"
          ]
        }
      ]
    }
  ]
}